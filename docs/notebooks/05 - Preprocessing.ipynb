{
 "cells": [
  {
   "cell_type": "markdown",
   "metadata": {},
   "source": [
    "# Preprocessing\n",
    "\n",
    "With all files prepared, a little bit of preprocessing needs to be done to make sure files are in order for actual modelling and predictions. Some of the preprocessing steps in this notebook ensure that,\n",
    "- The data is clean\n",
    "- Units are correct and follow ISU\n",
    "- There are no missing files or values (checked in previous step)\n",
    "- There are no NaN values that would mess with numerical calculations\n"
   ]
  },
  {
   "cell_type": "markdown",
   "id": "221dd91b",
   "metadata": {},
   "source": [
    "## 1. Setup"
   ]
  },
  {
   "cell_type": "code",
   "execution_count": 1,
   "metadata": {},
   "outputs": [],
   "source": [
    "# Imports\n",
    "from PIL import Image\n",
    "import numpy as np\n",
    "import pandas as pd"
   ]
  },
  {
   "cell_type": "code",
   "execution_count": 29,
   "metadata": {},
   "outputs": [],
   "source": [
    "# User Variables & Parameters\n",
    "# Control Parameters\n",
    "prec_FileName           = 'prec_'\n",
    "tmin_FileName           = 'tmin_'\n",
    "tmax_FileName           = 'tmax_'\n",
    "prec_DataPath           = '../../WaterBucket/data/isb/prec/'\n",
    "tmin_DataPath           = '../../WaterBucket/data/isb/tmin/'\n",
    "tmax_DataPath           = '../../WaterBucket/data/isb/tmax/'\n",
    "startYear               = 1961\n",
    "endYear                 = 2018\n",
    "numYears                = (endYear - startYear) + 1\n",
    "fromMonth               = 1\n",
    "toMonth                 = 12\n",
    "\n",
    "# Reading Parameters\n",
    "prec_FilePathList       = []\n",
    "tmin_FilePathList       = []\n",
    "tmax_FilePathList       = []\n",
    "prec_FileList           = []\n",
    "tmin_FileList           = []\n",
    "tmax_FileList           = []\n",
    "\n",
    "# Preprocessing Parameters\n",
    "precDF                  = []\n",
    "tminDF                  = []\n",
    "tmaxDF                  = []\n",
    "precNP                  = []\n",
    "tminNP                  = []\n",
    "tmaxNP                  = []\n",
    "tempArr                 = []\n",
    "isNan                   = []"
   ]
  },
  {
   "cell_type": "markdown",
   "metadata": {},
   "source": [
    "## 2. Reading Files"
   ]
  },
  {
   "cell_type": "markdown",
   "metadata": {},
   "source": [
    "### 2.1 Precipitation"
   ]
  },
  {
   "cell_type": "code",
   "execution_count": 30,
   "metadata": {},
   "outputs": [],
   "source": [
    "# Filename generation for batch processing\n",
    "for y in range(startYear, endYear + 1):\n",
    "    for m in range(fromMonth, toMonth + 1):\n",
    "\n",
    "        # Handling case where month name is 01, 02, to 09\n",
    "        monthName       = ''\n",
    "        if m < 10:\n",
    "            monthName   = '0' + str(m)\n",
    "        else:\n",
    "            monthName   = str(m)\n",
    "        \n",
    "        # Calculaing imagepath and searching if it exists on the system\n",
    "        fileName        = prec_FileName + str(y) + '-' + str(monthName) + '.tif'\n",
    "        imagePath       = prec_DataPath + fileName\n",
    "        prec_FilePathList.append(imagePath)"
   ]
  },
  {
   "cell_type": "code",
   "execution_count": 31,
   "metadata": {},
   "outputs": [],
   "source": [
    "# Reading all files into a list ~(1.2MB)\n",
    "for filePath in prec_FilePathList:\n",
    "    currentImage = Image.open(filePath)\n",
    "    prec_FileList.append(currentImage)"
   ]
  },
  {
   "cell_type": "markdown",
   "metadata": {},
   "source": [
    "### 2.2. Minumum Temperature"
   ]
  },
  {
   "cell_type": "code",
   "execution_count": 32,
   "metadata": {},
   "outputs": [],
   "source": [
    "# Filename generation for batch processing\n",
    "for y in range(startYear, endYear + 1):\n",
    "    for m in range(fromMonth, toMonth + 1):\n",
    "\n",
    "        # Handling case where month name is 01, 02, to 09\n",
    "        monthName       = ''\n",
    "        if m < 10:\n",
    "            monthName   = '0' + str(m)\n",
    "        else:\n",
    "            monthName   = str(m)\n",
    "        \n",
    "        # Calculaing imagepath and searching if it exists on the system\n",
    "        fileName        = tmin_FileName + str(y) + '-' + str(monthName) + '.tif'\n",
    "        imagePath       = tmin_DataPath + fileName\n",
    "        tmin_FilePathList.append(imagePath)"
   ]
  },
  {
   "cell_type": "code",
   "execution_count": 33,
   "metadata": {},
   "outputs": [],
   "source": [
    "# Reading all files into a list ~(1.2MB)\n",
    "for filePath in tmin_FilePathList:\n",
    "    currentImage = Image.open(filePath)\n",
    "    tmin_FileList.append(currentImage)"
   ]
  },
  {
   "cell_type": "markdown",
   "metadata": {},
   "source": [
    "### 2.3. Maximum Temperature"
   ]
  },
  {
   "cell_type": "code",
   "execution_count": 34,
   "metadata": {},
   "outputs": [],
   "source": [
    "# Filename generation for batch processing\n",
    "for y in range(startYear, endYear + 1):\n",
    "    for m in range(fromMonth, toMonth + 1):\n",
    "\n",
    "        # Handling case where month name is 01, 02, to 09\n",
    "        monthName       = ''\n",
    "        if m < 10:\n",
    "            monthName   = '0' + str(m)\n",
    "        else:\n",
    "            monthName   = str(m)\n",
    "        \n",
    "        # Calculaing imagepath and searching if it exists on the system\n",
    "        fileName        = tmax_FileName + str(y) + '-' + str(monthName) + '.tif'\n",
    "        imagePath       = tmax_DataPath + fileName\n",
    "        tmax_FilePathList.append(imagePath)"
   ]
  },
  {
   "cell_type": "code",
   "execution_count": 35,
   "metadata": {},
   "outputs": [],
   "source": [
    "# Reading all files into a list ~(1.2MB)\n",
    "for filePath in tmax_FilePathList:\n",
    "    currentImage = Image.open(filePath)\n",
    "    tmax_FileList.append(currentImage)"
   ]
  },
  {
   "cell_type": "markdown",
   "metadata": {},
   "source": [
    "## 3. NaN Value Elimination"
   ]
  },
  {
   "cell_type": "code",
   "execution_count": 37,
   "metadata": {},
   "outputs": [],
   "source": [
    "# Converting files to np arrays\n",
    "for prec in prec_FileList:\n",
    "    npPrec = np.array(prec)\n",
    "    isNan.append(np.isnan(npPrec))\n",
    "\n",
    "# Converting files to np arrays\n",
    "for tmin in tmin_FileList:\n",
    "    npTmin = np.array(tmin)\n",
    "    isNan.append(np.isnan(npTmin))\n",
    "\n",
    "# Converting files to np arrays\n",
    "for tmax in tmax_FileList:\n",
    "    npTmax = np.array(tmax)\n",
    "    isNan.append(np.isnan(npTmax))\n",
    "\n",
    "# Searching for any NaN Value\n",
    "for file in isNan:\n",
    "    for list in file:\n",
    "        for value in list:\n",
    "            if value == True:\n",
    "                print(\"Found NaN Value!\")"
   ]
  }
 ],
 "metadata": {
  "interpreter": {
   "hash": "6e368bedbbd5776b249a0cd193197ed6b2038ad77bd4b01ee00341616389d959"
  },
  "kernelspec": {
   "display_name": "Python 3.9.7 ('base')",
   "language": "python",
   "name": "python3"
  },
  "language_info": {
   "codemirror_mode": {
    "name": "ipython",
    "version": 3
   },
   "file_extension": ".py",
   "mimetype": "text/x-python",
   "name": "python",
   "nbconvert_exporter": "python",
   "pygments_lexer": "ipython3",
   "version": "3.9.7"
  },
  "orig_nbformat": 4
 },
 "nbformat": 4,
 "nbformat_minor": 2
}
