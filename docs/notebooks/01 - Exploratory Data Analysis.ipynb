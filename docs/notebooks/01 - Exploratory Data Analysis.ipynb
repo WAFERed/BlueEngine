{
 "cells": [
  {
   "cell_type": "code",
   "execution_count": 5,
   "metadata": {},
   "outputs": [],
   "source": [
    "# Imported Libraries\n",
    "from PIL import Image\n",
    "import numpy as np"
   ]
  },
  {
   "cell_type": "markdown",
   "metadata": {},
   "source": [
    "## 3. Data Analysis"
   ]
  },
  {
   "cell_type": "code",
   "execution_count": 3,
   "metadata": {},
   "outputs": [],
   "source": [
    "# Loading in a sample image\n",
    "sampleImagePath = '../../WaterBucket/data/world/wc2.1_2.5m_tmax/wc2.1_2.5m_tmax_2018-07.tif'\n",
    "sampleImage     = Image.open(sampleImagePath)"
   ]
  },
  {
   "cell_type": "code",
   "execution_count": null,
   "metadata": {},
   "outputs": [],
   "source": [
    "sampleImage.show()"
   ]
  },
  {
   "cell_type": "code",
   "execution_count": 7,
   "metadata": {},
   "outputs": [
    {
     "name": "stdout",
     "output_type": "stream",
     "text": [
      "class:  ndarray\n",
      "shape:  (4320, 8640)\n",
      "strides:  (34560, 4)\n",
      "itemsize:  4\n",
      "aligned:  True\n",
      "contiguous:  True\n",
      "fortran:  False\n",
      "data pointer: 0x7f0de1d8f010\n",
      "byteorder:  little\n",
      "byteswap:  False\n",
      "type: float32\n"
     ]
    }
   ],
   "source": [
    "npArray         = np.array(sampleImage)\n",
    "np.info(npArray)"
   ]
  },
  {
   "cell_type": "code",
   "execution_count": null,
   "metadata": {},
   "outputs": [],
   "source": []
  },
  {
   "cell_type": "code",
   "execution_count": null,
   "metadata": {},
   "outputs": [
    {
     "name": "stdout",
     "output_type": "stream",
     "text": [
      "(6069, 6079, 1345, 1355)\n"
     ]
    }
   ],
   "source": [
    "# Function to calculate the pixel values from coordinates\n",
    "def Coordinates2Pixels(coordValX, coordValY, areaVal):\n",
    "\n",
    "    # Calculating coordinate pixel location 1' coordVal = 24 pixels)\n",
    "    pixelValX           = int(round( ((180 * 24) + (coordValX * 24)), 0) )\n",
    "    pixelValY           = int(round( ((90 * 24) - (coordValY * 24)), 0)  )\n",
    "\n",
    "    # Using area to calculate a box\n",
    "    radius              = int(round((areaVal * 24) / 2, 0))\n",
    "    pixelStartX         = pixelValX - radius\n",
    "    pixelEndX           = pixelValX + radius\n",
    "    pixelStartY         = pixelValY - radius\n",
    "    pixelEndY           = pixelValY + radius\n",
    "\n",
    "    return (pixelStartX, pixelEndX, pixelStartY, pixelEndY)\n",
    "\n",
    "print(Coordinates2Pixels(locationCoordiantes[0],\n",
    "                        locationCoordiantes[1],\n",
    "                        locationCoordiantes[2]))"
   ]
  }
 ],
 "metadata": {
  "interpreter": {
   "hash": "6e368bedbbd5776b249a0cd193197ed6b2038ad77bd4b01ee00341616389d959"
  },
  "kernelspec": {
   "display_name": "Python 3.9.7 ('base')",
   "language": "python",
   "name": "python3"
  },
  "language_info": {
   "codemirror_mode": {
    "name": "ipython",
    "version": 3
   },
   "file_extension": ".py",
   "mimetype": "text/x-python",
   "name": "python",
   "nbconvert_exporter": "python",
   "pygments_lexer": "ipython3",
   "version": "3.9.7"
  },
  "orig_nbformat": 4
 },
 "nbformat": 4,
 "nbformat_minor": 2
}
