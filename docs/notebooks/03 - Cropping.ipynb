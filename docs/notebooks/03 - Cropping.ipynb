{
 "cells": [
  {
   "cell_type": "markdown",
   "metadata": {},
   "source": [
    "# Cropping\n",
    "\n",
    "To analyze and made predictions for the project a certain region needs to be cropped from orignal RAW world data fetched from WorldClim source. This newer dataset will also allow faster processing of data due to far less filesizes for each file. The cropping demonstrated in this notebook is done through following steps\n",
    "- The user adjusts parameter values in the user variables section\n",
    "- Two nested loops count generate filenames with paths for each month of data\n",
    "- In the nested loops, dataset files are accessed\n",
    "- Each file/batch of files are loaded and using PIL.Image module, the .tiff world files are cropped\n",
    "- The cropping process is done by the 'Coordinates2Pixel' function to calculate pixel values for real-world coordinates. Those pixel values are starting and ending locations for the x and y coordinates\n",
    "- The pixel values form a primitive shape of a square which is easy to formulate later on\n",
    "- The loaded image(s) are cropped and outputted into a seperate directory"
   ]
  },
  {
   "cell_type": "markdown",
   "id": "221dd91b",
   "metadata": {},
   "source": [
    "## 1. Setup"
   ]
  },
  {
   "cell_type": "code",
   "execution_count": 1,
   "metadata": {},
   "outputs": [],
   "source": [
    "# Imports\n",
    "from PIL import Image\n",
    "import numpy as np"
   ]
  },
  {
   "cell_type": "code",
   "execution_count": 6,
   "metadata": {},
   "outputs": [],
   "source": [
    "# User Variables & Parameters\n",
    "# Control Pparameters\n",
    "prec_FileName           = 'wc2.1_2.5m_prec_'\n",
    "tmin_FileName           = 'wc2.1_2.5m_tmin_'\n",
    "tmax_FileName           = 'wc2.1_2.5m_tmax_'\n",
    "prec_DataPath           = '../../WaterBucket/data/world/wc2.1_2.5m_prec/'\n",
    "tmin_DataPath           = '../../WaterBucket/data/world/wc2.1_2.5m_tmin/'\n",
    "tmax_DataPath           = '../../WaterBucket/data/world/wc2.1_2.5m_tmax/'\n",
    "startYear               = 1961\n",
    "endYear                 = 2018\n",
    "numYears                = (endYear - startYear) + 1\n",
    "fromMonth               = 1\n",
    "toMonth                 = 12\n",
    "\n",
    "# Ooutput Parameters\n",
    "out_PrecPath            = '../../WaterBucket/data/isb/prec/'\n",
    "out_TminPath            = '../../WaterBucket/data/isb/tmin/'\n",
    "out_TmaxPath            = '../../WaterBucket/data/isb/tmax/'\n",
    "\n",
    "                        # (longitude, latitude, Area)\n",
    "locationCoordiantes     = (73.084488, 33.738045, 0.405)\n",
    "\n",
    "# Processing Parameters\n",
    "batchSize               = 12 * 3\n",
    "filePathList            = []\n",
    "# ISB: (33.738045, 73.084488)\n",
    "# Area of ISB is 906km^2 or 2000km^2 as a square i.e. 30km * 30km or 45km * 45km respectively\n",
    "# Which is ~0.405' in coordinate value"
   ]
  },
  {
   "cell_type": "code",
   "execution_count": 7,
   "metadata": {},
   "outputs": [
    {
     "name": "stdout",
     "output_type": "stream",
     "text": [
      "(6064, 1340, 20)\n"
     ]
    }
   ],
   "source": [
    "# Function to calculate the pixel values from coordinates\n",
    "def Coordinates2Pixels(coordValX, coordValY, areaVal):\n",
    "\n",
    "    # Calculating coordinate pixel location 1' coordVal = 24 pixels)\n",
    "    pixelValX           = int(round( ((180 * 24) + (coordValX * 24)), 0) )\n",
    "    pixelValY           = int(round( ((90 * 24) - (coordValY * 24)), 0)  )\n",
    "\n",
    "    # Using area to calculate a box\n",
    "    radius              = int(round((areaVal * 24), 0))\n",
    "    heightWidth         = radius * 2\n",
    "    pixelStartX         = pixelValX - radius\n",
    "    pixelStartY         = pixelValY - radius\n",
    "\n",
    "    return (pixelStartX, pixelStartY, heightWidth)\n",
    "\n",
    "print(Coordinates2Pixels(locationCoordiantes[0],\n",
    "                        locationCoordiantes[1],\n",
    "                        locationCoordiantes[2]))"
   ]
  },
  {
   "cell_type": "markdown",
   "metadata": {},
   "source": [
    "## 2. Test"
   ]
  },
  {
   "cell_type": "code",
   "execution_count": 27,
   "metadata": {},
   "outputs": [],
   "source": [
    "# Loading in a sample image\n",
    "sampleImagePath         = '../../WaterBucket/data/world/wc2.1_2.5m_tmax/wc2.1_2.5m_tmax_2018-07.tif'\n",
    "sampleImage             = Image.open(sampleImagePath)"
   ]
  },
  {
   "cell_type": "code",
   "execution_count": 28,
   "metadata": {},
   "outputs": [],
   "source": [
    "# Displaying full sample image\n",
    "sampleImage.show()"
   ]
  },
  {
   "cell_type": "code",
   "execution_count": 34,
   "metadata": {},
   "outputs": [
    {
     "name": "stdout",
     "output_type": "stream",
     "text": [
      "(6064, 1340, 20)\n"
     ]
    }
   ],
   "source": [
    "# Calculation\n",
    "samplePixelCord         = Coordinates2Pixels(locationCoordiantes[0],\n",
    "                                            locationCoordiantes[1],\n",
    "                                            locationCoordiantes[2])\n",
    "print(samplePixelCord)"
   ]
  },
  {
   "cell_type": "code",
   "execution_count": 35,
   "metadata": {},
   "outputs": [
    {
     "name": "stdout",
     "output_type": "stream",
     "text": [
      "[[35.676674 34.314632 34.487568 34.74749  34.835403 34.723328 35.035244\n",
      "  34.683167 33.38308  32.031002 31.86292  30.60284  30.130758 30.37468\n",
      "  30.628626 29.400597 27.940569 25.840542 26.104513 32.024487]\n",
      " [35.27828  35.00324  34.28755  34.41522  34.87488  35.190544 35.16221\n",
      "  34.209873 33.74154  33.653202 32.200867 31.352531 30.980196 30.91986\n",
      "  30.53754  28.069237 26.424929 24.584623 26.66832  31.588015]\n",
      " [35.599884 34.887848 33.923534 34.018948 34.706356 35.485767 35.537174\n",
      "  35.256588 34.703995 33.455406 32.206814 32.942226 32.665634 32.001045\n",
      "  29.970457 26.925873 25.94529  24.880707 25.724123 31.259542]\n",
      " [35.689487 34.932457 33.11552  34.342678 35.39383  35.552986 35.35614\n",
      "  34.951298 33.87045  33.269608 33.62476  33.063915 31.879072 30.306227\n",
      "  29.283373 27.954514 27.241652 24.868792 27.54393  31.17107 ]\n",
      " [35.45109  33.977066 33.531506 35.218403 35.461304 35.364204 35.091106\n",
      "  34.750004 34.372906 33.843807 32.78671  31.753609 31.008509 29.075409\n",
      "  29.32029  28.71515  27.098013 25.636875 28.391735 29.986597]\n",
      " [34.556698 33.521675 35.18749  35.454136 35.40478  35.223427 34.782074\n",
      "  34.312717 33.627365 32.27401  31.632656 31.287302 30.569946 30.616592\n",
      "  29.633207 29.50779  28.102373 27.048956 27.471542 29.794125]\n",
      " [35.3303   35.666283 35.591473 35.417862 35.272255 35.026646 34.373035\n",
      "  32.999428 31.385818 30.64021  31.2266   31.632992 31.963385 31.405775\n",
      "  31.098124 29.908428 28.634735 27.17704  27.483345 29.701653]\n",
      " [36.047905 35.83089  35.615456 35.389595 35.05573  34.701866 33.356003\n",
      "  32.35814  32.012276 31.830412 30.956547 30.638683 31.216822 31.070957\n",
      "  30.603039 30.397068 29.815096 29.425123 28.695152 27.02918 ]\n",
      " [35.82151  35.687504 35.52744  35.37332  34.383205 33.937088 34.014965\n",
      "  33.46085  32.14273  31.304613 30.430494 29.944376 30.970259 31.79614\n",
      "  32.475956 31.869707 30.835457 30.665207 29.182959 28.048708]\n",
      " [35.675114 35.628113 35.479427 35.293053 34.85868  34.02831  33.437935\n",
      "  32.459557 31.757187 31.350815 31.68044  32.32607  32.987694 33.365322\n",
      "  33.308872 32.798347 31.883818 30.62129  29.890762 29.720236]\n",
      " [35.453358 35.47023  35.333332 35.094658 34.391983 33.52931  33.070633\n",
      "  33.047962 33.377285 33.702614 33.96394  34.029263 34.09859  34.175915\n",
      "  34.111233 33.41653  32.545826 31.511126 31.280426 29.913725]\n",
      " [35.42025  35.28186  35.125156 34.974136 34.72711  34.420094 34.23307\n",
      "  34.38605  34.55903  34.684006 34.71299  34.62597  34.650948 34.483925\n",
      "  34.279026 33.91226  33.14949  32.59472  31.267948 31.181177]\n",
      " [35.631138 35.321487 35.104984 35.001617 34.84625  34.55088  34.53951\n",
      "  34.66014  34.98477  35.105408 35.050037 34.898666 34.707302 34.61193\n",
      "  34.31883  33.779987 32.76915  32.79831  32.579468 32.83263 ]\n",
      " [35.55803  35.27312  35.06881  34.857094 34.745377 34.709663 34.72595\n",
      "  34.654232 34.914516 35.0708   35.071083 35.00337  34.755653 34.543938\n",
      "  34.43063  34.363716 33.988808 34.0459   33.61899  33.180077]\n",
      " [35.412914 35.348747 35.18464  35.004574 34.83651  34.90445  34.824387\n",
      "  34.696323 34.89226  34.876198 35.048138 35.080074 34.90401  34.77995\n",
      "  34.51043  34.34345  34.280468 34.03349  33.38251  32.87553 ]\n",
      " [35.159805 35.28838  35.144463 34.87205  34.84764  35.043232 34.918823\n",
      "  34.782413 34.854004 34.969593 34.977184 34.796772 34.596363 34.615955\n",
      "  34.538223 34.31118  33.920128 33.789078 33.21403  32.890984]\n",
      " [35.130695 34.91201  34.504288 34.53153  35.07477  35.254017 35.04126\n",
      "  35.072502 35.283745 35.19499  34.76223  34.457474 34.240715 34.30796\n",
      "  34.274025 34.126907 33.971786 33.92467  33.46555  33.470432]\n",
      " [35.041584 34.735638 34.988113 35.33901  35.497906 35.316803 35.239697\n",
      "  35.430595 35.313488 34.948387 34.75128  34.378178 34.365074 34.22397\n",
      "  34.305824 34.238636 34.179447 34.260258 34.033073 34.073887]\n",
      " [35.60847  35.59927  35.723938 35.806488 35.749035 35.499584 35.526134\n",
      "  35.504684 35.21123  34.889782 34.77233  34.55888  34.493427 34.407974\n",
      "  34.437622 34.390366 34.45511  34.46785  34.356594 34.441338]\n",
      " [35.827362 35.9069   36.015766 36.00597  35.90817  35.79037  35.656574\n",
      "  35.486774 35.116978 35.163177 35.02138  34.711582 34.61378  34.439983\n",
      "  34.50542  34.554096 34.59877  34.46344  34.524117 34.56479 ]]\n",
      "class:  ndarray\n",
      "shape:  (20, 20)\n",
      "strides:  (80, 4)\n",
      "itemsize:  4\n",
      "aligned:  True\n",
      "contiguous:  True\n",
      "fortran:  False\n",
      "data pointer: 0x557a4d47fe30\n",
      "byteorder:  little\n",
      "byteswap:  False\n",
      "type: float32\n"
     ]
    }
   ],
   "source": [
    "# To crop, image.crop((x, y, x + width, y + height))\n",
    "sampleCroppedImage      = sampleImage.crop((samplePixelCord[0],\n",
    "                                            samplePixelCord[1],\n",
    "                                            samplePixelCord[0] + samplePixelCord[2],\n",
    "                                            samplePixelCord[1] + samplePixelCord[2]))\n",
    "numpyArray              = np.array(sampleCroppedImage)\n",
    "print(numpyArray)\n",
    "np.info(numpyArray)"
   ]
  },
  {
   "cell_type": "code",
   "execution_count": 37,
   "metadata": {},
   "outputs": [],
   "source": [
    "sampleCroppedImage.save('../output/test.tif')"
   ]
  },
  {
   "cell_type": "markdown",
   "metadata": {},
   "source": [
    "## 3. Processing"
   ]
  },
  {
   "cell_type": "markdown",
   "metadata": {},
   "source": [
    "### 3.1. Precipitation"
   ]
  },
  {
   "cell_type": "code",
   "execution_count": 4,
   "metadata": {},
   "outputs": [],
   "source": [
    "# Filename generation for batch processing\n",
    "for y in range(startYear, endYear + 1):\n",
    "    for m in range(fromMonth, toMonth + 1):\n",
    "\n",
    "        # Handling case where month name is 01, 02, to 09\n",
    "        monthName       = ''\n",
    "        if m < 10:\n",
    "            monthName   = '0' + str(m)\n",
    "        else:\n",
    "            monthName   = str(m)\n",
    "        \n",
    "        # Calculaing imagepath and searching if it exists on the system\n",
    "        fileName        = prec_FileName + str(y) + '-' + str(monthName) + '.tif'\n",
    "        imagePath       = prec_DataPath + fileName\n",
    "        filePathList.append(imagePath)\n",
    "\n",
    "# Calculating picel coordinates\n",
    "pixelCord               = Coordinates2Pixels(locationCoordiantes[0],\n",
    "                                            locationCoordiantes[1],\n",
    "                                            locationCoordiantes[2])"
   ]
  },
  {
   "cell_type": "code",
   "execution_count": 5,
   "metadata": {},
   "outputs": [
    {
     "name": "stdout",
     "output_type": "stream",
     "text": [
      "../../WaterBucket/data/isb/prec/prec_1961-01.tif  to  ../../WaterBucket/data/isb/prec/prec_1963-12.tif\n",
      "../../WaterBucket/data/isb/prec/prec_1964-01.tif  to  ../../WaterBucket/data/isb/prec/prec_1966-12.tif\n",
      "../../WaterBucket/data/isb/prec/prec_1967-01.tif  to  ../../WaterBucket/data/isb/prec/prec_1969-12.tif\n",
      "../../WaterBucket/data/isb/prec/prec_1970-01.tif  to  ../../WaterBucket/data/isb/prec/prec_1972-12.tif\n",
      "../../WaterBucket/data/isb/prec/prec_1973-01.tif  to  ../../WaterBucket/data/isb/prec/prec_1975-12.tif\n",
      "../../WaterBucket/data/isb/prec/prec_1976-01.tif  to  ../../WaterBucket/data/isb/prec/prec_1978-12.tif\n",
      "../../WaterBucket/data/isb/prec/prec_1979-01.tif  to  ../../WaterBucket/data/isb/prec/prec_1981-12.tif\n",
      "../../WaterBucket/data/isb/prec/prec_1982-01.tif  to  ../../WaterBucket/data/isb/prec/prec_1984-12.tif\n",
      "../../WaterBucket/data/isb/prec/prec_1985-01.tif  to  ../../WaterBucket/data/isb/prec/prec_1987-12.tif\n",
      "../../WaterBucket/data/isb/prec/prec_1988-01.tif  to  ../../WaterBucket/data/isb/prec/prec_1990-12.tif\n",
      "../../WaterBucket/data/isb/prec/prec_1991-01.tif  to  ../../WaterBucket/data/isb/prec/prec_1993-12.tif\n",
      "../../WaterBucket/data/isb/prec/prec_1994-01.tif  to  ../../WaterBucket/data/isb/prec/prec_1996-12.tif\n",
      "../../WaterBucket/data/isb/prec/prec_1997-01.tif  to  ../../WaterBucket/data/isb/prec/prec_1999-12.tif\n",
      "../../WaterBucket/data/isb/prec/prec_2000-01.tif  to  ../../WaterBucket/data/isb/prec/prec_2002-12.tif\n",
      "../../WaterBucket/data/isb/prec/prec_2003-01.tif  to  ../../WaterBucket/data/isb/prec/prec_2005-12.tif\n",
      "../../WaterBucket/data/isb/prec/prec_2006-01.tif  to  ../../WaterBucket/data/isb/prec/prec_2008-12.tif\n",
      "../../WaterBucket/data/isb/prec/prec_2009-01.tif  to  ../../WaterBucket/data/isb/prec/prec_2011-12.tif\n",
      "../../WaterBucket/data/isb/prec/prec_2012-01.tif  to  ../../WaterBucket/data/isb/prec/prec_2014-12.tif\n",
      "../../WaterBucket/data/isb/prec/prec_2015-01.tif  to  ../../WaterBucket/data/isb/prec/prec_2017-12.tif\n",
      "../../WaterBucket/data/isb/prec/prec_2018-01.tif  to  ../../WaterBucket/data/isb/prec/prec_2018-12.tif\n"
     ]
    }
   ],
   "source": [
    "# Batch processing\n",
    "currentFileIndex        = 0\n",
    "filePathListSize        = len(filePathList)\n",
    "\n",
    "# Iterating over each file by batch\n",
    "fileIndex               = 0\n",
    "while fileIndex < filePathListSize:\n",
    "\n",
    "    # File list and paths (RAM) for each batch\n",
    "    batchFiles          = []\n",
    "    batchPaths          = []\n",
    "\n",
    "    # Iterating over the current set of files in batch to load\n",
    "    for i in range(fileIndex, fileIndex + batchSize):\n",
    "\n",
    "        # Extra check for last batch if it has less elemments than batch size\n",
    "        if i < filePathListSize:\n",
    "            \n",
    "            # Loading Images\n",
    "            CurrentImage = Image.open(filePathList[i])\n",
    "            batchFiles.append(CurrentImage)\n",
    "            \n",
    "            genFileName = out_PrecPath + (filePathList[i])[56:]\n",
    "            batchPaths.append(genFileName)\n",
    "\n",
    "    print(batchPaths[0], ' to ', batchPaths[-1])\n",
    "    # Going over each file of the batch\n",
    "    for i in range(0, len(batchFiles)):\n",
    "\n",
    "        # Cropping Image\n",
    "        CroppedImage    = batchFiles[i].crop((pixelCord[0],\n",
    "                                            pixelCord[1],\n",
    "                                            pixelCord[0] + pixelCord[2],\n",
    "                                            pixelCord[1] + pixelCord[2]))\n",
    "        \n",
    "        # Saving File\n",
    "        CroppedImage.save(batchPaths[i])\n",
    "    \n",
    "    # Proceeeding to next batch\n",
    "    fileIndex = fileIndex + batchSize"
   ]
  },
  {
   "cell_type": "markdown",
   "metadata": {},
   "source": [
    "### 3.2. Minimum Temperature"
   ]
  },
  {
   "cell_type": "code",
   "execution_count": 8,
   "metadata": {},
   "outputs": [],
   "source": [
    "# Filename generation for batch processing\n",
    "for y in range(startYear, endYear + 1):\n",
    "    for m in range(fromMonth, toMonth + 1):\n",
    "\n",
    "        # Handling case where month name is 01, 02, to 09\n",
    "        monthName       = ''\n",
    "        if m < 10:\n",
    "            monthName   = '0' + str(m)\n",
    "        else:\n",
    "            monthName   = str(m)\n",
    "        \n",
    "        # Calculaing imagepath and searching if it exists on the system\n",
    "        fileName        = tmin_FileName + str(y) + '-' + str(monthName) + '.tif'\n",
    "        imagePath       = tmin_DataPath + fileName\n",
    "        filePathList.append(imagePath)\n",
    "\n",
    "# Calculating picel coordinates\n",
    "pixelCord               = Coordinates2Pixels(locationCoordiantes[0],\n",
    "                                            locationCoordiantes[1],\n",
    "                                            locationCoordiantes[2])"
   ]
  },
  {
   "cell_type": "code",
   "execution_count": 9,
   "metadata": {},
   "outputs": [
    {
     "name": "stdout",
     "output_type": "stream",
     "text": [
      "../../WaterBucket/data/isb/tmin/tmin_1961-01.tif  to  ../../WaterBucket/data/isb/tmin/tmin_1963-12.tif\n",
      "../../WaterBucket/data/isb/tmin/tmin_1964-01.tif  to  ../../WaterBucket/data/isb/tmin/tmin_1965-12.tif\n"
     ]
    }
   ],
   "source": [
    "# Batch processing\n",
    "currentFileIndex        = 0\n",
    "filePathListSize        = len(filePathList)\n",
    "\n",
    "# Iterating over each file by batch\n",
    "fileIndex               = 0\n",
    "while fileIndex < filePathListSize:\n",
    "\n",
    "    # File list and paths (RAM) for each batch\n",
    "    batchFiles          = []\n",
    "    batchPaths          = []\n",
    "\n",
    "    # Iterating over the current set of files in batch to load\n",
    "    for i in range(fileIndex, fileIndex + batchSize):\n",
    "\n",
    "        # Extra check for last batch if it has less elemments than batch size\n",
    "        if i < filePathListSize:\n",
    "            \n",
    "            # Loading Images\n",
    "            CurrentImage = Image.open(filePathList[i])\n",
    "            batchFiles.append(CurrentImage)\n",
    "            \n",
    "            genFileName = out_TminPath + (filePathList[i])[56:]\n",
    "            batchPaths.append(genFileName)\n",
    "\n",
    "    print(batchPaths[0], ' to ', batchPaths[-1])\n",
    "    # Going over each file of the batch\n",
    "    for i in range(0, len(batchFiles)):\n",
    "\n",
    "        # Cropping Image\n",
    "        CroppedImage    = batchFiles[i].crop((pixelCord[0],\n",
    "                                            pixelCord[1],\n",
    "                                            pixelCord[0] + pixelCord[2],\n",
    "                                            pixelCord[1] + pixelCord[2]))\n",
    "        \n",
    "        # Saving File\n",
    "        CroppedImage.save(batchPaths[i])\n",
    "    \n",
    "    # Proceeeding to next batch\n",
    "    fileIndex = fileIndex + batchSize"
   ]
  },
  {
   "cell_type": "markdown",
   "metadata": {},
   "source": [
    "### 3.3. Maximum Temperature"
   ]
  },
  {
   "cell_type": "code",
   "execution_count": 8,
   "metadata": {},
   "outputs": [],
   "source": [
    "# Filename generation for batch processing\n",
    "for y in range(startYear, endYear + 1):\n",
    "    for m in range(fromMonth, toMonth + 1):\n",
    "\n",
    "        # Handling case where month name is 01, 02, to 09\n",
    "        monthName       = ''\n",
    "        if m < 10:\n",
    "            monthName   = '0' + str(m)\n",
    "        else:\n",
    "            monthName   = str(m)\n",
    "        \n",
    "        # Calculaing imagepath and searching if it exists on the system\n",
    "        fileName        = tmax_FileName + str(y) + '-' + str(monthName) + '.tif'\n",
    "        imagePath       = tmax_DataPath + fileName\n",
    "        filePathList.append(imagePath)\n",
    "\n",
    "# Calculating picel coordinates\n",
    "pixelCord               = Coordinates2Pixels(locationCoordiantes[0],\n",
    "                                            locationCoordiantes[1],\n",
    "                                            locationCoordiantes[2])"
   ]
  },
  {
   "cell_type": "code",
   "execution_count": 9,
   "metadata": {},
   "outputs": [
    {
     "name": "stdout",
     "output_type": "stream",
     "text": [
      "../../WaterBucket/data/isb/tmax/tmax_1961-01.tif  to  ../../WaterBucket/data/isb/tmax/tmax_1963-12.tif\n",
      "../../WaterBucket/data/isb/tmax/tmax_1964-01.tif  to  ../../WaterBucket/data/isb/tmax/tmax_1966-12.tif\n",
      "../../WaterBucket/data/isb/tmax/tmax_1967-01.tif  to  ../../WaterBucket/data/isb/tmax/tmax_1969-12.tif\n",
      "../../WaterBucket/data/isb/tmax/tmax_1970-01.tif  to  ../../WaterBucket/data/isb/tmax/tmax_1972-12.tif\n",
      "../../WaterBucket/data/isb/tmax/tmax_1973-01.tif  to  ../../WaterBucket/data/isb/tmax/tmax_1975-12.tif\n",
      "../../WaterBucket/data/isb/tmax/tmax_1976-01.tif  to  ../../WaterBucket/data/isb/tmax/tmax_1978-12.tif\n",
      "../../WaterBucket/data/isb/tmax/tmax_1979-01.tif  to  ../../WaterBucket/data/isb/tmax/tmax_1981-12.tif\n",
      "../../WaterBucket/data/isb/tmax/tmax_1982-01.tif  to  ../../WaterBucket/data/isb/tmax/tmax_1984-12.tif\n",
      "../../WaterBucket/data/isb/tmax/tmax_1985-01.tif  to  ../../WaterBucket/data/isb/tmax/tmax_1987-12.tif\n",
      "../../WaterBucket/data/isb/tmax/tmax_1988-01.tif  to  ../../WaterBucket/data/isb/tmax/tmax_1990-12.tif\n",
      "../../WaterBucket/data/isb/tmax/tmax_1991-01.tif  to  ../../WaterBucket/data/isb/tmax/tmax_1993-12.tif\n",
      "../../WaterBucket/data/isb/tmax/tmax_1994-01.tif  to  ../../WaterBucket/data/isb/tmax/tmax_1996-12.tif\n",
      "../../WaterBucket/data/isb/tmax/tmax_1997-01.tif  to  ../../WaterBucket/data/isb/tmax/tmax_1999-12.tif\n",
      "../../WaterBucket/data/isb/tmax/tmax_2000-01.tif  to  ../../WaterBucket/data/isb/tmax/tmax_2002-12.tif\n",
      "../../WaterBucket/data/isb/tmax/tmax_2003-01.tif  to  ../../WaterBucket/data/isb/tmax/tmax_2005-12.tif\n",
      "../../WaterBucket/data/isb/tmax/tmax_2006-01.tif  to  ../../WaterBucket/data/isb/tmax/tmax_2008-12.tif\n",
      "../../WaterBucket/data/isb/tmax/tmax_2009-01.tif  to  ../../WaterBucket/data/isb/tmax/tmax_2011-12.tif\n",
      "../../WaterBucket/data/isb/tmax/tmax_2012-01.tif  to  ../../WaterBucket/data/isb/tmax/tmax_2014-12.tif\n",
      "../../WaterBucket/data/isb/tmax/tmax_2015-01.tif  to  ../../WaterBucket/data/isb/tmax/tmax_2017-12.tif\n",
      "../../WaterBucket/data/isb/tmax/tmax_2018-01.tif  to  ../../WaterBucket/data/isb/tmax/tmax_2018-12.tif\n"
     ]
    }
   ],
   "source": [
    "# Batch processing\n",
    "currentFileIndex        = 0\n",
    "filePathListSize        = len(filePathList)\n",
    "\n",
    "# Iterating over each file by batch\n",
    "fileIndex               = 0\n",
    "while fileIndex < filePathListSize:\n",
    "\n",
    "    # File list and paths (RAM) for each batch\n",
    "    batchFiles          = []\n",
    "    batchPaths          = []\n",
    "\n",
    "    # Iterating over the current set of files in batch to load\n",
    "    for i in range(fileIndex, fileIndex + batchSize):\n",
    "\n",
    "        # Extra check for last batch if it has less elemments than batch size\n",
    "        if i < filePathListSize:\n",
    "            \n",
    "            # Loading Images\n",
    "            CurrentImage = Image.open(filePathList[i])\n",
    "            batchFiles.append(CurrentImage)\n",
    "            \n",
    "            genFileName = out_TmaxPath + (filePathList[i])[56:]\n",
    "            batchPaths.append(genFileName)\n",
    "\n",
    "    print(batchPaths[0], ' to ', batchPaths[-1])\n",
    "    # Going over each file of the batch\n",
    "    for i in range(0, len(batchFiles)):\n",
    "\n",
    "        # Cropping Image\n",
    "        CroppedImage    = batchFiles[i].crop((pixelCord[0],\n",
    "                                            pixelCord[1],\n",
    "                                            pixelCord[0] + pixelCord[2],\n",
    "                                            pixelCord[1] + pixelCord[2]))\n",
    "        \n",
    "        # Saving File\n",
    "        CroppedImage.save(batchPaths[i])\n",
    "    \n",
    "    # Proceeeding to next batch\n",
    "    fileIndex = fileIndex + batchSize"
   ]
  },
  {
   "cell_type": "code",
   "execution_count": null,
   "metadata": {},
   "outputs": [],
   "source": []
  }
 ],
 "metadata": {
  "interpreter": {
   "hash": "6e368bedbbd5776b249a0cd193197ed6b2038ad77bd4b01ee00341616389d959"
  },
  "kernelspec": {
   "display_name": "Python 3.9.7 ('base')",
   "language": "python",
   "name": "python3"
  },
  "language_info": {
   "codemirror_mode": {
    "name": "ipython",
    "version": 3
   },
   "file_extension": ".py",
   "mimetype": "text/x-python",
   "name": "python",
   "nbconvert_exporter": "python",
   "pygments_lexer": "ipython3",
   "version": "3.9.7"
  },
  "orig_nbformat": 4
 },
 "nbformat": 4,
 "nbformat_minor": 2
}
