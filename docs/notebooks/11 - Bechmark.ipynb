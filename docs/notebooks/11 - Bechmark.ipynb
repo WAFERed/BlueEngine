{
 "cells": [
  {
   "cell_type": "markdown",
   "metadata": {},
   "source": [
    "# Benchmarking\n",
    "This is a simple benchmarking utility to evaluate how much data the user's specific hardware can process at a given time. During such heavy workleads, crashes are common due to overloaded CPU, RAM or storage. This notebook will help to evaluate what size of batch someone should use to limit resource peak usage."
   ]
  },
  {
   "cell_type": "markdown",
   "metadata": {},
   "source": [
    "## 1. Setup"
   ]
  },
  {
   "cell_type": "code",
   "execution_count": 3,
   "metadata": {},
   "outputs": [],
   "source": [
    "# Imports\n",
    "from PIL import Image\n",
    "import numpy as np\n",
    "import matplotlib.pylab as plt\n",
    "from IPython import display\n",
    "import gc\n",
    "import psutil\n",
    "%matplotlib inline"
   ]
  },
  {
   "cell_type": "code",
   "execution_count": 8,
   "metadata": {},
   "outputs": [],
   "source": [
    "# User Variables & Parameters\n",
    "# File Control Pparameters\n",
    "prec_FileName           = 'wc2.1_2.5m_prec_'\n",
    "prec_DataPath           = '../../WaterBucket/data/world/wc2.1_2.5m_prec/'\n",
    "out_PrecPath            = '../../WaterBucket/data/isb/prec/'\n",
    "\n",
    "                        # (longitude, latitude, Area)\n",
    "locationCoordiantes     = (73.084488, 33.738045, 0.405)\n",
    "filePathList            = []\n",
    "\n",
    "# Benchmark Parameters\n",
    "sBatches                = 2\n",
    "nBatches                = sBatches * 3\n",
    "batchSize               = 12 * sBatches\n",
    "\n",
    "startYear               = 1961\n",
    "endYear                 = startYear + (nBatches - 1)\n",
    "numYears                = (endYear - startYear) + 1\n",
    "fromMonth               = 1\n",
    "toMonth                 = 12\n",
    "\n",
    "# Resource Parameters\n",
    "limitMemoryPerc         = 90\n",
    "limitCPUPerc            = 100"
   ]
  },
  {
   "cell_type": "code",
   "execution_count": 9,
   "metadata": {},
   "outputs": [],
   "source": [
    "# Function to calculate the pixel values from coordinates\n",
    "def Coordinates2Pixels(coordValX, coordValY, areaVal):\n",
    "\n",
    "    # Calculating coordinate pixel location 1' coordVal = 24 pixels)\n",
    "    pixelValX           = int(round( ((180 * 24) + (coordValX * 24)), 0) )\n",
    "    pixelValY           = int(round( ((90 * 24) - (coordValY * 24)), 0)  )\n",
    "\n",
    "    # Using area to calculate a box\n",
    "    radius              = int(round((areaVal * 24), 0))\n",
    "    heightWidth         = radius * 2\n",
    "    pixelStartX         = pixelValX - radius\n",
    "    pixelStartY         = pixelValY - radius\n",
    "\n",
    "    return (pixelStartX, pixelStartY, heightWidth)"
   ]
  },
  {
   "cell_type": "code",
   "execution_count": 10,
   "metadata": {},
   "outputs": [],
   "source": [
    "# Generating FilePathList\n",
    "for y in range(startYear, endYear + 1):\n",
    "    for m in range(fromMonth, toMonth + 1):\n",
    "\n",
    "        # Handling case where month name is 01, 02, to 09\n",
    "        monthName       = ''\n",
    "        if m < 10:\n",
    "            monthName   = '0' + str(m)\n",
    "        else:\n",
    "            monthName   = str(m)\n",
    "        \n",
    "        # Calculaing imagepath and searching if it exists on the system\n",
    "        fileName        = prec_FileName + str(y) + '-' + str(monthName) + '.tif'\n",
    "        imagePath       = prec_DataPath + fileName\n",
    "        filePathList.append(imagePath)\n",
    "\n",
    "# Calculating picel coordinates\n",
    "pixelCord               = Coordinates2Pixels(locationCoordiantes[0],\n",
    "                                            locationCoordiantes[1],\n",
    "                                            locationCoordiantes[2])"
   ]
  },
  {
   "cell_type": "markdown",
   "metadata": {},
   "source": [
    "## 2. Benchmark Setup Summary"
   ]
  },
  {
   "cell_type": "code",
   "execution_count": 11,
   "metadata": {},
   "outputs": [
    {
     "name": "stdout",
     "output_type": "stream",
     "text": [
      "Batch size:\t\t 2 year(s)\n",
      "Number of batches:\t 3\n",
      "Processing from:\t 1961\n",
      "Processing to:\t\t 1966\n",
      "Files to be processed:\t 72\n",
      "Memory Limit:\t\t 90 %\n",
      "CPU Limit:\t\t 100 %\n"
     ]
    }
   ],
   "source": [
    "print('Batch size:\\t\\t', sBatches, 'year(s)')\n",
    "print('Number of batches:\\t', int(nBatches/sBatches))\n",
    "print('Processing from:\\t', startYear)\n",
    "print('Processing to:\\t\\t', endYear)\n",
    "print('Files to be processed:\\t', len(filePathList))\n",
    "print('Memory Limit:\\t\\t', limitMemoryPerc, '%')\n",
    "print('CPU Limit:\\t\\t', limitCPUPerc, '%')"
   ]
  },
  {
   "cell_type": "markdown",
   "metadata": {},
   "source": [
    "## 2. Benchmark"
   ]
  },
  {
   "cell_type": "code",
   "execution_count": 12,
   "metadata": {},
   "outputs": [
    {
     "data": {
      "image/png": "[encoded data removed]",
      "text/plain": [
       "<Figure size 432x288 with 1 Axes>"
      ]
     },
     "metadata": {
      "needs_background": "light"
     },
     "output_type": "display_data"
    }
   ],
   "source": [
    "# Batch processing\n",
    "currentFileList         = [0]\n",
    "filePathListSize        = len(filePathList)\n",
    "failSwitch              = False\n",
    "ramUse                  = []\n",
    "cpuUse                  = []\n",
    "\n",
    "# Iterating over each file by batch\n",
    "fileIndex               = 0\n",
    "while fileIndex < filePathListSize:\n",
    "\n",
    "    # File list and paths (RAM) for each batch\n",
    "    batchFiles          = []\n",
    "    batchPaths          = []\n",
    "\n",
    "    # Iterating over the current set of files in batch to load\n",
    "    for i in range(fileIndex, fileIndex + batchSize):\n",
    "\n",
    "        # Extra check for last batch if it has less elemments than batch size\n",
    "        if i < filePathListSize:\n",
    "            \n",
    "            # Loading Images\n",
    "            CurrentImage = Image.open(filePathList[i])\n",
    "            batchFiles.append(CurrentImage)\n",
    "            \n",
    "            genFileName = out_PrecPath + (filePathList[i])[56:]\n",
    "            batchPaths.append(genFileName)\n",
    "\n",
    "    print(batchPaths[0], ' to ', batchPaths[-1], '\\n')\n",
    "\n",
    "    # Going over each file of the batch\n",
    "    for i in range(0, len(batchFiles)):\n",
    "\n",
    "        # Cropping Image\n",
    "        CroppedImage    = batchFiles[i].crop((pixelCord[0],\n",
    "                                            pixelCord[1],\n",
    "                                            pixelCord[0] + pixelCord[2],\n",
    "                                            pixelCord[1] + pixelCord[2]))\n",
    "        \n",
    "        \n",
    "        # Calculating current ram and cpu use\n",
    "        ramUse.append(psutil.virtual_memory().percent)\n",
    "        cpuUse.append(psutil.cpu_percent())\n",
    "\n",
    "        # Display\n",
    "        print('RAM Usage: ', ramUse[-1])\n",
    "        print('CPU Usage: ', cpuUse[-1])\n",
    "\n",
    "        # Plotting\n",
    "        display.clear_output(wait=True)\n",
    "        plt.plot(currentFileList, ramUse, cpuUse)\n",
    "        #plt.plot(currentFileList, cpuUse)\n",
    "        #display.display(plt.gcf())\n",
    "        plt.show()\n",
    "\n",
    "        # Updating File Index\n",
    "        currentFileList.append(currentFileList[-1] + 1)\n",
    "\n",
    "        # Resource Check\n",
    "        if (ramUse[-1] > limitMemoryPerc) or (cpuUse[-1] > limitCPUPerc):\n",
    "            failSwitch = True\n",
    "            break\n",
    "        \n",
    "\n",
    "    if failSwitch == True:\n",
    "        print('Exceeded Resource Use!!!!')\n",
    "        break\n",
    "\n",
    "    # Proceeeding to next batch\n",
    "    fileIndex = fileIndex + batchSize"
   ]
  },
  {
   "cell_type": "code",
   "execution_count": 13,
   "metadata": {},
   "outputs": [
    {
     "data": {
      "text/plain": [
       "43613"
      ]
     },
     "execution_count": 13,
     "metadata": {},
     "output_type": "execute_result"
    }
   ],
   "source": [
    "# Cleanup\n",
    "gc.collect()"
   ]
  },
  {
   "cell_type": "code",
   "execution_count": 14,
   "metadata": {},
   "outputs": [
    {
     "name": "stdout",
     "output_type": "stream",
     "text": [
      "2.7\n",
      "svmem(total=8196751360, available=2199212032, percent=73.2, used=5636198400, free=137789440, active=1666519040, inactive=5863038976, buffers=8953856, cached=2413809664, shared=52666368, slab=277155840)\n",
      "{'total': 8196751360, 'available': 2199212032, 'percent': 73.2, 'used': 5636198400, 'free': 137789440, 'active': 1666519040, 'inactive': 5863038976, 'buffers': 8957952, 'cached': 2413805568, 'shared': 52666368, 'slab': 277155840}\n",
      "73.2\n",
      "26.79880669211857\n"
     ]
    }
   ],
   "source": [
    "# Other resource parameters\n",
    "print(psutil.cpu_percent())\n",
    "print(psutil.virtual_memory())\n",
    "print(dict(psutil.virtual_memory()._asdict()))\n",
    "print(psutil.virtual_memory().percent)\n",
    "print(psutil.virtual_memory().available * 100 / psutil.virtual_memory().total)"
   ]
  },
  {
   "cell_type": "code",
   "execution_count": null,
   "metadata": {},
   "outputs": [],
   "source": []
  }
 ],
 "metadata": {
  "interpreter": {
   "hash": "6e368bedbbd5776b249a0cd193197ed6b2038ad77bd4b01ee00341616389d959"
  },
  "kernelspec": {
   "display_name": "Python 3.9.7 ('base')",
   "language": "python",
   "name": "python3"
  },
  "language_info": {
   "codemirror_mode": {
    "name": "ipython",
    "version": 3
   },
   "file_extension": ".py",
   "mimetype": "text/x-python",
   "name": "python",
   "nbconvert_exporter": "python",
   "pygments_lexer": "ipython3",
   "version": "3.9.7"
  },
  "orig_nbformat": 4
 },
 "nbformat": 4,
 "nbformat_minor": 2
}
